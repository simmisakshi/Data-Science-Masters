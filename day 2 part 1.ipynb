{
 "cells": [
  {
   "cell_type": "code",
   "execution_count": 1,
   "id": "1ab475bb-84f9-4d2c-b71e-3e28c5656704",
   "metadata": {},
   "outputs": [
    {
     "name": "stdout",
     "output_type": "stream",
     "text": [
      "hello world\n"
     ]
    }
   ],
   "source": [
    "print(\"hello world\")"
   ]
  },
  {
   "cell_type": "code",
   "execution_count": 2,
   "id": "97316ea1-30ba-4aa9-bd53-542d44ba5976",
   "metadata": {},
   "outputs": [
    {
     "name": "stdout",
     "output_type": "stream",
     "text": [
      "123\n"
     ]
    }
   ],
   "source": [
    "print(123)"
   ]
  },
  {
   "cell_type": "code",
   "execution_count": 3,
   "id": "9abee85d-5ee0-4dac-85a8-acca6e7c5fa2",
   "metadata": {},
   "outputs": [
    {
     "name": "stdout",
     "output_type": "stream",
     "text": [
      "hello world\n"
     ]
    }
   ],
   "source": [
    "print('hello world')"
   ]
  },
  {
   "cell_type": "code",
   "execution_count": 4,
   "id": "068c1c75-73f4-42eb-97f8-078d44084d10",
   "metadata": {},
   "outputs": [
    {
     "name": "stdout",
     "output_type": "stream",
     "text": [
      "my age is: 22\n"
     ]
    }
   ],
   "source": [
    "age=22\n",
    "print(\"my age is:\",age)"
   ]
  },
  {
   "cell_type": "code",
   "execution_count": 5,
   "id": "7bb708a7-e820-4ae5-8ec1-17697cc85259",
   "metadata": {},
   "outputs": [
    {
     "name": "stdout",
     "output_type": "stream",
     "text": [
      "my class= 21\n"
     ]
    }
   ],
   "source": [
    "stander =21\n",
    "print (\"my class=\",stander)\n"
   ]
  },
  {
   "cell_type": "code",
   "execution_count": 7,
   "id": "757d14a8-86c6-4741-8660-32645930938a",
   "metadata": {},
   "outputs": [
    {
     "name": "stdout",
     "output_type": "stream",
     "text": [
      "my class=21\n"
     ]
    }
   ],
   "source": [
    "## fstring\n",
    "# f string is used for formatting \n",
    "# it is used when we used to call my \n",
    "print(f\"my class={stander}\")"
   ]
  },
  {
   "cell_type": "markdown",
   "id": "23526d02-f0e0-4223-bdd6-38e82fb4ff1f",
   "metadata": {},
   "source": [
    "# format()"
   ]
  },
  {
   "cell_type": "code",
   "execution_count": 11,
   "id": "c67ff918-81c7-4691-816d-f1579390fcdc",
   "metadata": {},
   "outputs": [
    {
     "name": "stdout",
     "output_type": "stream",
     "text": [
      "my name is sakshi and age is 22 \n"
     ]
    }
   ],
   "source": [
    "name=\"sakshi\"\n",
    "age=22\n",
    "print(\"my name is {} and age is {} \". format(name,age))"
   ]
  },
  {
   "cell_type": "code",
   "execution_count": 13,
   "id": "3e256ffb-1553-4b8c-be26-90d82c5b644a",
   "metadata": {},
   "outputs": [
    {
     "name": "stdout",
     "output_type": "stream",
     "text": [
      "my name is sakshi and age is 22\n"
     ]
    }
   ],
   "source": [
    "# placeholder\n",
    "name=\"sakshi\"\n",
    "age=22\n",
    "print(\"my name is {firstname} and age is {firstage}\".format(firstname=name,firstage =age))"
   ]
  },
  {
   "cell_type": "code",
   "execution_count": 14,
   "id": "9e4c8ec3-bbf8-43dc-946a-214cf702004b",
   "metadata": {},
   "outputs": [
    {
     "name": "stdout",
     "output_type": "stream",
     "text": [
      "my name is sakshi and age is 22\n"
     ]
    }
   ],
   "source": [
    "# placeholder\n",
    "name=\"sakshi\"\n",
    "age=22\n",
    "print(\"my name is {firstname} and age is {firstage}\".format(firstage =age,firstname=name))"
   ]
  },
  {
   "cell_type": "code",
   "execution_count": 17,
   "id": "98a033e5-b197-4a92-b5f7-2a293aa69844",
   "metadata": {},
   "outputs": [
    {
     "name": "stdout",
     "output_type": "stream",
     "text": [
      "my age is 24 and i have completed : my degree of bed with the name of shivangi priya\n"
     ]
    }
   ],
   "source": [
    "name=\"shivangi priya\"\n",
    "age=24\n",
    "degree=\"bed\"\n",
    "print(\"my age is {firstage} and i have completed : my degree of {firstdegree} with the name of {firstname}\".format(firstage=age,firstdegree=degree,firstname=name))"
   ]
  },
  {
   "cell_type": "markdown",
   "id": "6f50bbfe-aa27-4c7d-8e64-25a7f01267dd",
   "metadata": {},
   "source": [
    "## control flow\n",
    "### decision making statements\n",
    "* it is a kind of making decision during occured situation of a program execution and action can be taken according \n",
    "to specified condition.\n",
    "* structure of decision making evaluate several expression that provide true  or false as a result.                         * it is up to you to decide which type of action want to take and execute the statements based upon true and false.\n",
    "    \n",
    "    **These are several topics of decision making which going to be discussed below:**\n",
    "    1. **if***\n",
    "    2. **if else**\n",
    "    3. **nested if**\n",
    "    4. **if else if**\n",
    "    5. **single statement suites**\n"
   ]
  },
  {
   "cell_type": "code",
   "execution_count": 18,
   "id": "642a3a02-50df-4c94-8567-8324c2ded1a1",
   "metadata": {},
   "outputs": [
    {
     "name": "stdout",
     "output_type": "stream",
     "text": [
      "you are eligible to vote\n"
     ]
    }
   ],
   "source": [
    "## if statement\n",
    "age=18\n",
    "if age>=18:\n",
    "    print(\"you are eligible to vote\")"
   ]
  },
  {
   "cell_type": "code",
   "execution_count": 19,
   "id": "1f220fd7-13bc-40ad-acb8-4c608a77639f",
   "metadata": {},
   "outputs": [
    {
     "name": "stdout",
     "output_type": "stream",
     "text": [
      "you are eligible to vote\n"
     ]
    }
   ],
   "source": [
    "age=45\n",
    "if age>=18:\n",
    "    print(\"you are eligible to vote\")"
   ]
  },
  {
   "cell_type": "code",
   "execution_count": 25,
   "id": "8969ef58-28fb-4008-a475-44569af538b2",
   "metadata": {},
   "outputs": [
    {
     "name": "stdout",
     "output_type": "stream",
     "text": [
      "you are not eligible to volt\n"
     ]
    }
   ],
   "source": [
    "age=8\n",
    "if age<=18:\n",
    "    print(\"you are not eligible to volt\")"
   ]
  },
  {
   "cell_type": "code",
   "execution_count": 1,
   "id": "321ae816-8bd6-4637-90de-56987e7b197a",
   "metadata": {},
   "outputs": [
    {
     "name": "stdout",
     "output_type": "stream",
     "text": [
      "hello world\n"
     ]
    }
   ],
   "source": [
    "print(\"hello world\")"
   ]
  },
  {
   "cell_type": "code",
   "execution_count": 2,
   "id": "33660c02-93e2-4f09-8931-e76c42b2c305",
   "metadata": {},
   "outputs": [
    {
     "name": "stdout",
     "output_type": "stream",
     "text": [
      "123\n"
     ]
    }
   ],
   "source": [
    "print(123)"
   ]
  },
  {
   "cell_type": "code",
   "execution_count": 3,
   "id": "4393bf76-9312-42cf-a2ab-bd56dce4ecee",
   "metadata": {},
   "outputs": [
    {
     "name": "stdout",
     "output_type": "stream",
     "text": [
      "hello wprld\n"
     ]
    }
   ],
   "source": [
    "print('hello wprld')"
   ]
  },
  {
   "cell_type": "code",
   "execution_count": 4,
   "id": "9bc81c2b-1f78-4826-bd71-95257a484d87",
   "metadata": {},
   "outputs": [
    {
     "name": "stdout",
     "output_type": "stream",
     "text": [
      "my age is: 32\n"
     ]
    }
   ],
   "source": [
    "age=32\n",
    "print(\"my age is:\" ,age)"
   ]
  },
  {
   "cell_type": "code",
   "execution_count": 10,
   "id": "2e43d669-23d5-44f5-acc0-3e0ab7d5bc17",
   "metadata": {},
   "outputs": [
    {
     "name": "stdout",
     "output_type": "stream",
     "text": [
      "my class is=  12\n"
     ]
    }
   ],
   "source": [
    "std=12\n",
    "print(\"my class is= \" ,std)"
   ]
  },
  {
   "cell_type": "code",
   "execution_count": 11,
   "id": "269f5450-f4c8-468c-8d69-f686aa05b9ce",
   "metadata": {},
   "outputs": [
    {
     "name": "stdout",
     "output_type": "stream",
     "text": [
      "my age is: 32\n"
     ]
    }
   ],
   "source": [
    "## f string (it is for formatting)\n",
    "print(f\"my age is: {age}\")\n",
    "\n"
   ]
  },
  {
   "cell_type": "code",
   "execution_count": 13,
   "id": "63d23d4e-ebfb-4b22-84d2-77392d3ff3c0",
   "metadata": {},
   "outputs": [
    {
     "name": "stdout",
     "output_type": "stream",
     "text": [
      "my name is sakshi and my age is 32 \n"
     ]
    }
   ],
   "source": [
    "## format()\n",
    "name=\"sakshi\"\n",
    "age= 32\n",
    "print(\"my name is {} and my age is {} \".format(name,age))"
   ]
  },
  {
   "cell_type": "code",
   "execution_count": 14,
   "id": "d2dda34e-caa1-4f67-bd2d-a252fc98a857",
   "metadata": {},
   "outputs": [
    {
     "name": "stdout",
     "output_type": "stream",
     "text": [
      "my name is 32 and my age is sakshi \n"
     ]
    }
   ],
   "source": [
    "\n",
    "print(\"my name is {} and my age is {} \".format(age ,name))"
   ]
  },
  {
   "cell_type": "code",
   "execution_count": 15,
   "id": "eebc21d9-9444-470c-a9f6-1fada32574ad",
   "metadata": {},
   "outputs": [
    {
     "name": "stdout",
     "output_type": "stream",
     "text": [
      "my name is sakshi and my age is 32 \n"
     ]
    }
   ],
   "source": [
    "## placeholder\n",
    "print(\"my name is {firstname} and my age is {firstage} \".format( firstage=age , firstname=name))"
   ]
  },
  {
   "cell_type": "code",
   "execution_count": 20,
   "id": "4292f99d-13a9-43cb-b06d-f96a1f0a9a96",
   "metadata": {},
   "outputs": [
    {
     "name": "stdout",
     "output_type": "stream",
     "text": [
      "i am shreya belogs to patna in bihar persuing mybtech degree\n"
     ]
    }
   ],
   "source": [
    "name=\"shreya\"\n",
    "city=\"patna\"\n",
    "state=\"bihar\" \n",
    "study =\"btech\"\n",
    "print(\"i am {} belogs to {} in {} persuing my{} degree\".format(name,city,state,study))"
   ]
  },
  {
   "cell_type": "code",
   "execution_count": 2,
   "id": "6bb1e645-fe90-4cf1-9260-033e4ca9150b",
   "metadata": {},
   "outputs": [
    {
     "name": "stdout",
     "output_type": "stream",
     "text": [
      "i am shreya belogs to patna in bihar persuing mybtech degree\n"
     ]
    }
   ],
   "source": [
    "name=\"shreya\"\n",
    "city=\"patna\"\n",
    "state=\"bihar\" \n",
    "study =\"btech\"\n",
    "print(\"i am {firstname} belogs to {firstcity} in {firststate} persuing my{firststudy} degree\".format(firstcity=city,firstname=name,firststudy=study,firststate=state))"
   ]
  },
  {
   "cell_type": "code",
   "execution_count": 4,
   "id": "30a28ac6-e9cc-42da-befb-a51d8bc7b1bc",
   "metadata": {},
   "outputs": [
    {
     "name": "stdout",
     "output_type": "stream",
     "text": [
      "my age is 25 and i have completed : my degree of bed with name of shivangi priya \n"
     ]
    }
   ],
   "source": [
    "name=\"shivangi priya\"\n",
    "age=25\n",
    "degree=\"bed\"\n",
    "print(\"my age is {} and i have completed : my degree of {} with name of {} \".format( age, degree,name))"
   ]
  },
  {
   "cell_type": "code",
   "execution_count": 6,
   "id": "330c304e-2d35-430a-bf93-50a4bac249c3",
   "metadata": {},
   "outputs": [
    {
     "name": "stdout",
     "output_type": "stream",
     "text": [
      "my age is 25 and i have completed : my degree of bed with name of shivangi priya \n"
     ]
    }
   ],
   "source": [
    "name=\"shivangi priya\"\n",
    "age=25\n",
    "degree=\"bed\"\n",
    "print(f\"my age is {age} and i have completed : my degree of {degree} with name of {name} \")"
   ]
  },
  {
   "cell_type": "markdown",
   "id": "18027bbb-9cc1-453e-895a-089c93615096",
   "metadata": {},
   "source": [
    "## control flow\n",
    "### decision making statement"
   ]
  },
  {
   "cell_type": "markdown",
   "id": "a980cc8e-5f7d-4358-b38d-6a39a14fe60a",
   "metadata": {},
   "source": [
    "## if statement"
   ]
  },
  {
   "cell_type": "code",
   "execution_count": 7,
   "id": "0ba519bf-b382-4cde-8689-ef90faa9b341",
   "metadata": {},
   "outputs": [
    {
     "name": "stdout",
     "output_type": "stream",
     "text": [
      "you are eligible to vote\n"
     ]
    }
   ],
   "source": [
    "age=18\n",
    "if age >=18:\n",
    "    print(\"you are eligible to vote\")"
   ]
  },
  {
   "cell_type": "code",
   "execution_count": 10,
   "id": "e9434586-73f5-4447-8408-68cd234a6acd",
   "metadata": {},
   "outputs": [
    {
     "name": "stdout",
     "output_type": "stream",
     "text": [
      "you are eligible to vote\n"
     ]
    }
   ],
   "source": [
    "age=28\n",
    "if age >=18:\n",
    "    print(\"you are eligible to vote\")"
   ]
  },
  {
   "cell_type": "code",
   "execution_count": 12,
   "id": "6692b31c-205f-4953-9dcd-8c37a6ff443f",
   "metadata": {},
   "outputs": [
    {
     "name": "stdout",
     "output_type": "stream",
     "text": [
      "you are not eligible to volt\n"
     ]
    }
   ],
   "source": [
    "age=3\n",
    "if age <=18:\n",
    "    print(\"you are not eligible to volt\")"
   ]
  },
  {
   "cell_type": "code",
   "execution_count": 13,
   "id": "df935d13-ea1d-408f-ae4a-bf72cbd09db0",
   "metadata": {},
   "outputs": [
    {
     "name": "stdin",
     "output_type": "stream",
     "text": [
      "enter the name sakshi shreya\n"
     ]
    }
   ],
   "source": [
    "## input gives us a prompt box\n",
    "## the default datatype of input is string\n",
    "name=input(\"enter the name\")"
   ]
  },
  {
   "cell_type": "code",
   "execution_count": 14,
   "id": "9b94dd81-9aa7-439b-8ff2-b87dbbe463d1",
   "metadata": {},
   "outputs": [
    {
     "data": {
      "text/plain": [
       "'sakshi shreya'"
      ]
     },
     "execution_count": 14,
     "metadata": {},
     "output_type": "execute_result"
    }
   ],
   "source": [
    "name"
   ]
  },
  {
   "cell_type": "code",
   "execution_count": 15,
   "id": "de4988ad-1570-4de9-a28d-d71ef0bb863f",
   "metadata": {},
   "outputs": [
    {
     "name": "stdin",
     "output_type": "stream",
     "text": [
      "enter the age 25\n"
     ]
    }
   ],
   "source": [
    "## typecasting\n",
    "### here we convert one datatype to another datatype by using typecasting\n",
    "### for eg here we have changed the str datatype to int datatype by applying int \n",
    "\n",
    "age=int(input(\"enter the age\"))"
   ]
  },
  {
   "cell_type": "code",
   "execution_count": 16,
   "id": "93bbed8a-842f-4f22-b8d7-bdda0a284ecf",
   "metadata": {},
   "outputs": [
    {
     "data": {
      "text/plain": [
       "25"
      ]
     },
     "execution_count": 16,
     "metadata": {},
     "output_type": "execute_result"
    }
   ],
   "source": [
    "age"
   ]
  },
  {
   "cell_type": "code",
   "execution_count": 18,
   "id": "2aac8d95-b562-49bc-a7e4-73e9ae2a6d0e",
   "metadata": {},
   "outputs": [
    {
     "data": {
      "text/plain": [
       "int"
      ]
     },
     "execution_count": 18,
     "metadata": {},
     "output_type": "execute_result"
    }
   ],
   "source": [
    "type(age)"
   ]
  },
  {
   "cell_type": "markdown",
   "id": "b0cb7979-9002-49c5-a607-613680855804",
   "metadata": {},
   "source": [
    "## task\n",
    "## check whether age >= 18 and age <=45\n",
    "## display a message you are young blood"
   ]
  },
  {
   "cell_type": "code",
   "execution_count": 27,
   "id": "92de5231-adcf-4067-88bb-d7267e7e38ae",
   "metadata": {},
   "outputs": [
    {
     "name": "stdin",
     "output_type": "stream",
     "text": [
      "enter the age 25\n"
     ]
    }
   ],
   "source": [
    "age=int(input(\"enter the age\"))"
   ]
  },
  {
   "cell_type": "code",
   "execution_count": 22,
   "id": "31d79890-7554-4791-b695-ed0af65ec576",
   "metadata": {},
   "outputs": [
    {
     "name": "stdout",
     "output_type": "stream",
     "text": [
      "you are a young blood\n"
     ]
    }
   ],
   "source": [
    "if age>= 18:\n",
    "    print(\"you are a young blood\")"
   ]
  },
  {
   "cell_type": "code",
   "execution_count": 23,
   "id": "a6713617-b252-4ef9-b2cc-e30eae4ddc6d",
   "metadata": {},
   "outputs": [
    {
     "name": "stdout",
     "output_type": "stream",
     "text": [
      "you are young blood\n"
     ]
    }
   ],
   "source": [
    "if age <=45:\n",
    "    print(\"you are young blood\")"
   ]
  },
  {
   "cell_type": "code",
   "execution_count": 28,
   "id": "052de474-fedd-4075-ba88-afef1e7809f7",
   "metadata": {},
   "outputs": [
    {
     "name": "stdout",
     "output_type": "stream",
     "text": [
      "you are a young blood\n"
     ]
    }
   ],
   "source": [
    "if age>=18 and age <= 45:\n",
    "    print(\"you are a young blood\")"
   ]
  },
  {
   "cell_type": "markdown",
   "id": "9d87adf5-19e5-433a-bbe3-668c8cd5fe85",
   "metadata": {},
   "source": [
    "## if else statement"
   ]
  },
  {
   "cell_type": "code",
   "execution_count": 29,
   "id": "5def4e7e-5000-467c-a89a-c97a8f1237f5",
   "metadata": {},
   "outputs": [
    {
     "name": "stdin",
     "output_type": "stream",
     "text": [
      "enter the age 55\n"
     ]
    }
   ],
   "source": [
    "age=int(input(\"enter the age\"))"
   ]
  },
  {
   "cell_type": "code",
   "execution_count": 32,
   "id": "a9d1cb97-638c-4cb2-ac0f-040d5811f6b4",
   "metadata": {},
   "outputs": [
    {
     "name": "stdout",
     "output_type": "stream",
     "text": [
      "thanku your application is rejected\n"
     ]
    }
   ],
   "source": [
    "if age>=18 and age<=45:\n",
    "    print(\"you are a young blood\")\n",
    "else:\n",
    "        print(\"thanku your application is rejected\")"
   ]
  },
  {
   "cell_type": "code",
   "execution_count": null,
   "id": "3da7ca14-f077-442c-a6c2-ebd521edaa3a",
   "metadata": {},
   "outputs": [],
   "source": [
    "## mall input the product price\n",
    "## product > 1000 rs 20% off\n",
    "## print the product price after removing the discount\n",
    "## product <= 1000 rs 30% off\n",
    "## print the product price after removing the discount"
   ]
  },
  {
   "cell_type": "code",
   "execution_count": null,
   "id": "bd4ee0b6-8da8-4024-bd30-56e7d205f5dd",
   "metadata": {},
   "outputs": [],
   "source": []
  },
  {
   "cell_type": "code",
   "execution_count": null,
   "id": "6a24b14d-4908-4a35-b5c5-e6bcae28e9a0",
   "metadata": {},
   "outputs": [],
   "source": []
  },
  {
   "cell_type": "code",
   "execution_count": 6,
   "id": "156632af-8fee-4a4a-ab28-49d96f4b4a83",
   "metadata": {},
   "outputs": [
    {
     "name": "stdin",
     "output_type": "stream",
     "text": [
      "enter the price 100\n"
     ]
    },
    {
     "name": "stdout",
     "output_type": "stream",
     "text": [
      "the price of the product 70.0\n"
     ]
    }
   ],
   "source": [
    "product_price=int(input(\"enter the price\"))\n",
    "if product_price>1000:\n",
    "    print(\"the price of the prduct {}\". format (product_price*0.8))\n",
    "else:\n",
    "    print(\"the price of the product {}\".format(product_price*.7))"
   ]
  },
  {
   "cell_type": "markdown",
   "id": "10192cdc-4c84-4296-bb85-3c4f1b800e43",
   "metadata": {},
   "source": [
    "## if elif else statement"
   ]
  },
  {
   "cell_type": "code",
   "execution_count": null,
   "id": "4b187a0e-cb76-4944-9511-45dd56af6d70",
   "metadata": {},
   "outputs": [],
   "source": []
  },
  {
   "cell_type": "code",
   "execution_count": null,
   "id": "8f85ebb2-800a-4989-8ec9-c53b0016ab3b",
   "metadata": {},
   "outputs": [],
   "source": [
    "## mall input the product price\n",
    "## product >  3000 rs 20% off\n",
    "## product price== 4000 \n",
    "## print you will get a goa trip\n",
    "## print the product price after removing the discount\n",
    "## product >= 2000 rs and <= 3000 30% off\n",
    "## print the product price after removing the discount\n",
    "## product >= 1000 rs and <=2000 40% off\n",
    "## print the product price after removing the discount\n",
    "## product_price==2999 \n",
    "## print you will get additional gift "
   ]
  },
  {
   "cell_type": "code",
   "execution_count": 25,
   "id": "ded3ff19-b01c-4cbf-81dc-09280e8dd4ec",
   "metadata": {},
   "outputs": [
    {
     "name": "stdin",
     "output_type": "stream",
     "text": [
      "enter the price 4000\n"
     ]
    },
    {
     "name": "stdout",
     "output_type": "stream",
     "text": [
      "you will get a goa trip\n",
      "the price of the product is 3200.0\n"
     ]
    }
   ],
   "source": [
    "product_price=int(input(\"enter the price\"))\n",
    "if product_price> 3000:\n",
    "    if product_price==4000:\n",
    "        print(\"you will get a goa trip\")\n",
    "    print(\"the price of the product is {}\".format(product_price*0.8))\n",
    "elif product_price >= 2000 and product_price<= 3000:\n",
    "     if product_price==2999:\n",
    "        print(\"you will get additional gift\")\n",
    "        print(\"the price of the product is {}\".format(product_price*0.7))\n",
    "elif product_price==2999:\n",
    "    print(\"you will get additional gift\")\n",
    "else:\n",
    "    print(\"the price of the product is {}\".format(product_price*0.6))"
   ]
  },
  {
   "cell_type": "markdown",
   "id": "21ec5e4c-be35-49a7-b23b-67620b5aa54a",
   "metadata": {},
   "source": [
    "## single statements suites"
   ]
  },
  {
   "cell_type": "code",
   "execution_count": 28,
   "id": "9c9826b7-ad74-4d6c-ad9e-511d294cf026",
   "metadata": {},
   "outputs": [
    {
     "name": "stdin",
     "output_type": "stream",
     "text": [
      "enter the number 564664\n"
     ]
    },
    {
     "name": "stdout",
     "output_type": "stream",
     "text": [
      "not interested\n"
     ]
    }
   ],
   "source": [
    "val=int(input(\"enter the number\"))\n",
    "if (val<=1000):print(\"value is less than 1000\")\n",
    "else:\n",
    "    print(\"not interested\")"
   ]
  },
  {
   "cell_type": "code",
   "execution_count": 3,
   "id": "506b0da5-af18-4319-b89c-c30401b7657b",
   "metadata": {},
   "outputs": [
    {
     "name": "stdin",
     "output_type": "stream",
     "text": [
      "enter the number 676\n"
     ]
    },
    {
     "name": "stdout",
     "output_type": "stream",
     "text": [
      "go home\n"
     ]
    }
   ],
   "source": [
    "val=int(input(\"enter the number\"))\n",
    "if (val>50000):print(\"you are invited in the group\")\n",
    "else:print(\"go home\")"
   ]
  },
  {
   "cell_type": "markdown",
   "id": "2acac1ab-6514-4295-ab87-764c2abdac00",
   "metadata": {},
   "source": [
    "## loop  statements\n",
    "1. while loop\n",
    "2. for loop\n",
    "3. nested loop\n",
    "4. loop control\n",
    "   (break, continue ,pass)"
   ]
  },
  {
   "cell_type": "markdown",
   "id": "649b7345-e5e5-4661-80ce-d2b4d64c781c",
   "metadata": {},
   "source": [
    "## while loop "
   ]
  },
  {
   "cell_type": "code",
   "execution_count": null,
   "id": "9e522431-58a4-4384-8458-fd1f525dd4df",
   "metadata": {},
   "outputs": [],
   "source": [
    "## while loop-- unless and untill i do not reach the given condition it will keep on executin.\n",
    "## while is continuous itterating condition.unless and untill the given condition become true.\n",
    "## with while we can also put else block."
   ]
  },
  {
   "cell_type": "markdown",
   "id": "b3cf0a9f-88fe-4e74-9173-45b7ad610cc6",
   "metadata": {},
   "source": [
    "### while loop in python is used to execute a block of statement repeatedly untill a given condition is stisfied.\n",
    "### and when the condition becomes false, the line immediately after the loop in the program is executed."
   ]
  },
  {
   "cell_type": "code",
   "execution_count": null,
   "id": "eacc6278-e229-4bd1-8516-cefa753e8c3c",
   "metadata": {},
   "outputs": [],
   "source": [
    "=25\n",
    "while joining_age<=30:\n",
    "    print(joining_age)\n",
    "    joining_age=joining_age+1\n",
    "else:\n",
    "        print(\"its time for retirement\")## while loop while else\n",
    "joining_age"
   ]
  },
  {
   "cell_type": "code",
   "execution_count": null,
   "id": "27e1eeaf-4e70-4d45-9eea-4fcdbc9a6810",
   "metadata": {},
   "outputs": [],
   "source": [
    "### ATM machine with 1000 rs\n",
    "total_amount=1000\n",
    "while total_amount !=0:\n",
    "    print(total_amount)\n",
    "    total_amount=total_amount-100\n",
    "else:\n",
    "    print(\"put more money to the atm bank people\")"
   ]
  },
  {
   "cell_type": "code",
   "execution_count": null,
   "id": "bafcd0c7-4ff2-40e9-b8aa-1d3c5094d664",
   "metadata": {},
   "outputs": [],
   "source": []
  },
  {
   "cell_type": "code",
   "execution_count": null,
   "id": "14b36fbd-9ed3-49e4-8f1a-0bf544f8b726",
   "metadata": {},
   "outputs": [],
   "source": [
    "\n",
    "\n"
   ]
  },
  {
   "cell_type": "code",
   "execution_count": null,
   "id": "e7f3570e-3c54-4c3b-8201-be496c7f4b9e",
   "metadata": {},
   "outputs": [],
   "source": []
  },
  {
   "cell_type": "code",
   "execution_count": null,
   "id": "8c0bc14f-48e9-4dc4-837b-94fad08b756d",
   "metadata": {},
   "outputs": [],
   "source": []
  },
  {
   "cell_type": "code",
   "execution_count": null,
   "id": "5d92dff7-9024-420e-b9fb-0714dc002f08",
   "metadata": {},
   "outputs": [],
   "source": []
  },
  {
   "cell_type": "code",
   "execution_count": null,
   "id": "ef94d021-7c0f-4e11-87b1-00d179f1dbcc",
   "metadata": {},
   "outputs": [],
   "source": []
  },
  {
   "cell_type": "code",
   "execution_count": null,
   "id": "8d2b1e4d-7f9a-459d-b701-e7f19e8dbbf6",
   "metadata": {},
   "outputs": [],
   "source": []
  },
  {
   "cell_type": "code",
   "execution_count": null,
   "id": "edc8af0f-6d82-4286-8391-d3644b4f65a5",
   "metadata": {},
   "outputs": [],
   "source": []
  },
  {
   "cell_type": "code",
   "execution_count": null,
   "id": "3b0834ab-1980-489e-9a4d-6d2f29737eaa",
   "metadata": {},
   "outputs": [],
   "source": []
  },
  {
   "cell_type": "code",
   "execution_count": null,
   "id": "d7c09afe-ed1a-4dc0-a31d-8f61aa75ef80",
   "metadata": {},
   "outputs": [],
   "source": []
  },
  {
   "cell_type": "code",
   "execution_count": null,
   "id": "45e86f05-eda0-4c0f-9cdc-dc7358256ae8",
   "metadata": {},
   "outputs": [],
   "source": []
  },
  {
   "cell_type": "code",
   "execution_count": null,
   "id": "65b834fa-2ece-4360-8602-e545f6849210",
   "metadata": {},
   "outputs": [],
   "source": []
  },
  {
   "cell_type": "code",
   "execution_count": null,
   "id": "8bb647d6-e690-4a83-a167-d72238442afd",
   "metadata": {},
   "outputs": [],
   "source": []
  },
  {
   "cell_type": "code",
   "execution_count": null,
   "id": "314dfbcd-f0ef-4b0a-b97f-1ab7907548cf",
   "metadata": {},
   "outputs": [],
   "source": []
  },
  {
   "cell_type": "code",
   "execution_count": null,
   "id": "25428234-0596-4890-b966-d83bdd1edc40",
   "metadata": {},
   "outputs": [],
   "source": []
  },
  {
   "cell_type": "code",
   "execution_count": null,
   "id": "183c25ea-36f8-4233-96ea-b551db6d6d51",
   "metadata": {},
   "outputs": [],
   "source": []
  },
  {
   "cell_type": "code",
   "execution_count": null,
   "id": "7b9f4853-a915-4e79-ba4e-990050b12d54",
   "metadata": {},
   "outputs": [],
   "source": []
  },
  {
   "cell_type": "code",
   "execution_count": null,
   "id": "b0735891-5737-4d4e-ae2a-72134040fe7d",
   "metadata": {},
   "outputs": [],
   "source": []
  },
  {
   "cell_type": "code",
   "execution_count": null,
   "id": "94f40876-ae4b-490e-b7d7-f7ad91cec9ac",
   "metadata": {},
   "outputs": [],
   "source": []
  },
  {
   "cell_type": "code",
   "execution_count": null,
   "id": "7bb12987-d81b-4415-a54e-5adab4c00abc",
   "metadata": {},
   "outputs": [],
   "source": []
  },
  {
   "cell_type": "code",
   "execution_count": null,
   "id": "9206a268-c0f0-4a01-8290-0ef02c2abdbd",
   "metadata": {},
   "outputs": [],
   "source": []
  },
  {
   "cell_type": "code",
   "execution_count": null,
   "id": "022d3721-a36b-428f-b251-8fd960f21514",
   "metadata": {},
   "outputs": [],
   "source": []
  },
  {
   "cell_type": "code",
   "execution_count": null,
   "id": "76398a6b-718e-42be-839a-a00a1500e1cf",
   "metadata": {},
   "outputs": [],
   "source": []
  },
  {
   "cell_type": "code",
   "execution_count": null,
   "id": "ef63ca57-da01-4107-b5ee-91bf031482b9",
   "metadata": {},
   "outputs": [],
   "source": []
  },
  {
   "cell_type": "code",
   "execution_count": null,
   "id": "ba6b31d0-09c9-4186-bdb0-7caf343e323b",
   "metadata": {},
   "outputs": [],
   "source": []
  },
  {
   "cell_type": "code",
   "execution_count": null,
   "id": "89d4e414-e323-487f-ab0d-ce631001ec81",
   "metadata": {},
   "outputs": [],
   "source": []
  },
  {
   "cell_type": "code",
   "execution_count": null,
   "id": "45eeef29-cb21-4244-b5e0-a9c932c9689f",
   "metadata": {},
   "outputs": [],
   "source": []
  },
  {
   "cell_type": "code",
   "execution_count": null,
   "id": "a7a4a343-8be4-4972-adc9-327e3b9e6beb",
   "metadata": {},
   "outputs": [],
   "source": []
  },
  {
   "cell_type": "code",
   "execution_count": null,
   "id": "b66acb37-76c8-4cc0-b12e-4b870a9947f9",
   "metadata": {},
   "outputs": [],
   "source": []
  },
  {
   "cell_type": "code",
   "execution_count": null,
   "id": "cbc2818a-b288-40f8-9c40-d7803eb7558e",
   "metadata": {},
   "outputs": [],
   "source": []
  },
  {
   "cell_type": "code",
   "execution_count": null,
   "id": "13a54ab5-d801-45ae-903c-8adcb4ac50c0",
   "metadata": {},
   "outputs": [],
   "source": []
  },
  {
   "cell_type": "code",
   "execution_count": null,
   "id": "3039fa9c-ec0c-4aa5-a14a-8dc8cb869d7e",
   "metadata": {},
   "outputs": [],
   "source": []
  },
  {
   "cell_type": "code",
   "execution_count": null,
   "id": "400b70a3-6f0f-446b-beb6-7229b8ea47a7",
   "metadata": {},
   "outputs": [],
   "source": []
  },
  {
   "cell_type": "code",
   "execution_count": null,
   "id": "129c93a1-4f47-496e-a5f9-6034a258480c",
   "metadata": {},
   "outputs": [],
   "source": []
  },
  {
   "cell_type": "code",
   "execution_count": null,
   "id": "4a697dd1-9061-42e3-88f5-0bfeb4422cc3",
   "metadata": {},
   "outputs": [],
   "source": []
  },
  {
   "cell_type": "code",
   "execution_count": null,
   "id": "15c51f00-28b7-4bbb-8138-ad02ed64b58f",
   "metadata": {},
   "outputs": [],
   "source": []
  },
  {
   "cell_type": "code",
   "execution_count": null,
   "id": "1a96dae4-3ab3-4911-a692-2ee28237b1df",
   "metadata": {},
   "outputs": [],
   "source": []
  },
  {
   "cell_type": "code",
   "execution_count": null,
   "id": "9b914583-37a1-41d0-a43a-27edd35e189c",
   "metadata": {},
   "outputs": [],
   "source": []
  },
  {
   "cell_type": "code",
   "execution_count": null,
   "id": "b1314325-ca59-4a24-b1f0-3964cb72f205",
   "metadata": {},
   "outputs": [],
   "source": []
  },
  {
   "cell_type": "code",
   "execution_count": null,
   "id": "92a2534c-9476-4a0e-9077-b1453d38920a",
   "metadata": {},
   "outputs": [],
   "source": []
  }
 ],
 "metadata": {
  "kernelspec": {
   "display_name": "Python 3 (ipykernel)",
   "language": "python",
   "name": "python3"
  },
  "language_info": {
   "codemirror_mode": {
    "name": "ipython",
    "version": 3
   },
   "file_extension": ".py",
   "mimetype": "text/x-python",
   "name": "python",
   "nbconvert_exporter": "python",
   "pygments_lexer": "ipython3",
   "version": "3.10.8"
  }
 },
 "nbformat": 4,
 "nbformat_minor": 5
}
