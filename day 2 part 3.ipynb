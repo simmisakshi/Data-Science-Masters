{
 "cells": [
  {
   "cell_type": "code",
   "execution_count": 1,
   "id": "63a0abee-8a4b-4972-aa0c-29e4b89f402f",
   "metadata": {},
   "outputs": [
    {
     "name": "stdout",
     "output_type": "stream",
     "text": [
      "0\n",
      "you are done\n",
      "1\n",
      "you are done\n",
      "2\n",
      "you are done\n",
      "3\n",
      "you are done\n",
      "4\n",
      "you are done\n",
      "5\n",
      "you are done\n",
      "6\n",
      "you are done\n"
     ]
    }
   ],
   "source": [
    "## example of while loop\n",
    "i=0\n",
    "while (i<7):\n",
    "    print(i)\n",
    "    i=i+1\n",
    "    print(\"you are done\")"
   ]
  },
  {
   "cell_type": "code",
   "execution_count": 4,
   "id": "cfd29d3a-b272-40e1-8a1d-e6e0f3655b4c",
   "metadata": {},
   "outputs": [
    {
     "name": "stdout",
     "output_type": "stream",
     "text": [
      "1\n",
      "you are eligible\n",
      "3\n",
      "you are eligible\n",
      "5\n",
      "you are eligible\n",
      "7\n",
      "you are eligible\n",
      "9\n",
      "you are eligible\n",
      "you are not eligible\n"
     ]
    }
   ],
   "source": [
    "### while else loop\n",
    "i=1\n",
    "while i<=10:\n",
    "    print(i)\n",
    "    i=i+2\n",
    "    print(\"you are eligible\")\n",
    "else:\n",
    "    print(\"you are not eligible\")"
   ]
  },
  {
   "cell_type": "code",
   "execution_count": 14,
   "id": "dc2f6cea-6033-4de6-9e24-6dd5022805ae",
   "metadata": {},
   "outputs": [
    {
     "name": "stdin",
     "output_type": "stream",
     "text": [
      "enter the number 2\n",
      "enter the number 3\n"
     ]
    },
    {
     "name": "stdout",
     "output_type": "stream",
     "text": [
      "3\n"
     ]
    },
    {
     "name": "stdin",
     "output_type": "stream",
     "text": [
      "enter the number 4\n"
     ]
    },
    {
     "name": "stdout",
     "output_type": "stream",
     "text": [
      "4\n"
     ]
    },
    {
     "name": "stdin",
     "output_type": "stream",
     "text": [
      "enter the number 6\n"
     ]
    },
    {
     "name": "stdout",
     "output_type": "stream",
     "text": [
      "6\n"
     ]
    },
    {
     "name": "stdin",
     "output_type": "stream",
     "text": [
      "enter the number 56\n"
     ]
    },
    {
     "name": "stdout",
     "output_type": "stream",
     "text": [
      "56\n"
     ]
    }
   ],
   "source": [
    "#### example while loop\n",
    "i=int(input(\"enter the number\"))\n",
    "while (i<15):\n",
    "    i=int(input(\"enter the number\"))\n",
    "    print(i)"
   ]
  },
  {
   "cell_type": "code",
   "execution_count": 15,
   "id": "9fea68a0-4519-48aa-bdf7-a3a3328068b9",
   "metadata": {},
   "outputs": [
    {
     "name": "stdout",
     "output_type": "stream",
     "text": [
      "7\n",
      "you are very cute\n",
      "6\n",
      "you are very cute\n",
      "5\n",
      "you are very cute\n",
      "4\n",
      "you are very cute\n",
      "3\n",
      "you are very cute\n",
      "2\n",
      "you are very cute\n",
      "you are stupid\n"
     ]
    }
   ],
   "source": [
    "## example while loop\n",
    "i=7\n",
    "while(i>1):\n",
    "    print(i)\n",
    "    i=i-1\n",
    "    print(\"you are very cute\")\n",
    "else:\n",
    "    print(\"you are stupid\")\n",
    "    "
   ]
  },
  {
   "cell_type": "markdown",
   "id": "cc6fbb94-e8d4-48fb-a26e-22e985247f20",
   "metadata": {},
   "source": [
    "# for loop"
   ]
  },
  {
   "cell_type": "markdown",
   "id": "a95b101d-3e03-483c-b4ae-b840c85dd201",
   "metadata": {},
   "source": [
    "##### for loop are used in sequential traversal. For example traversing a list or string or array etc. in python there is 'for in' loop which is used as foreach loop in other programming language."
   ]
  },
  {
   "cell_type": "code",
   "execution_count": 8,
   "id": "3bc91f77-dedd-4a99-a3ae-7b063095f4ee",
   "metadata": {},
   "outputs": [],
   "source": [
    "lst=[\"sakshi\",1,3,5,\"shivani\",1,\"saksham\"]"
   ]
  },
  {
   "cell_type": "code",
   "execution_count": 7,
   "id": "3b957363-9c2d-456a-be03-dab7e45a79af",
   "metadata": {},
   "outputs": [
    {
     "data": {
      "text/plain": [
       "list"
      ]
     },
     "execution_count": 7,
     "metadata": {},
     "output_type": "execute_result"
    }
   ],
   "source": [
    "type(lst)"
   ]
  },
  {
   "cell_type": "code",
   "execution_count": 9,
   "id": "d5115dc9-4d99-4ecd-a048-d1be26db19ab",
   "metadata": {},
   "outputs": [
    {
     "data": {
      "text/plain": [
       "1"
      ]
     },
     "execution_count": 9,
     "metadata": {},
     "output_type": "execute_result"
    }
   ],
   "source": [
    "lst[5]"
   ]
  },
  {
   "cell_type": "code",
   "execution_count": 10,
   "id": "95261cfd-ae91-4d26-ac7f-8b9e8aadf5db",
   "metadata": {},
   "outputs": [
    {
     "data": {
      "text/plain": [
       "'shivani'"
      ]
     },
     "execution_count": 10,
     "metadata": {},
     "output_type": "execute_result"
    }
   ],
   "source": [
    "lst[4]"
   ]
  },
  {
   "cell_type": "code",
   "execution_count": 11,
   "id": "b4420ee3-07ca-4c9c-8d10-1f9061864861",
   "metadata": {},
   "outputs": [
    {
     "name": "stdout",
     "output_type": "stream",
     "text": [
      "sakshi\n",
      "1\n",
      "3\n",
      "5\n",
      "shivani\n",
      "1\n",
      "saksham\n"
     ]
    }
   ],
   "source": [
    "for x in lst:\n",
    "    print(x)\n",
    "\n"
   ]
  },
  {
   "cell_type": "code",
   "execution_count": 13,
   "id": "4355e5ac-996e-43d6-b2a3-66b5e1d8225e",
   "metadata": {},
   "outputs": [
    {
     "name": "stdout",
     "output_type": "stream",
     "text": [
      "1\n",
      "2\n",
      "3\n",
      "4\n",
      "5\n",
      "6\n",
      "7\n",
      "8\n"
     ]
    }
   ],
   "source": [
    "lst=[1,2,3,4,5,6,7,8]\n",
    "for s in lst:\n",
    "    print(s)"
   ]
  },
  {
   "cell_type": "code",
   "execution_count": 25,
   "id": "475efff2-e46b-4845-b8b9-d03ef3468eee",
   "metadata": {},
   "outputs": [
    {
     "name": "stdout",
     "output_type": "stream",
     "text": [
      "mango\n",
      "cherry\n",
      "the fruit is cherry\n",
      "guava\n",
      "banana\n",
      "litchi\n",
      "this is normal fruit\n"
     ]
    }
   ],
   "source": [
    "fruits_lst=[\"mango\",\"cherry\",\"guava\",\"banana\",\"litchi\"]\n",
    "for a in fruits_lst:\n",
    "    print(a)\n",
    "    if a==\"cherry\":\n",
    "        print(\"the fruit is cherry\")\n",
    "else:\n",
    "    print(\"this is normal fruit\")"
   ]
  },
  {
   "cell_type": "code",
   "execution_count": 27,
   "id": "2ea9832d-8d5a-4c64-99ab-b8a3e04ba3dd",
   "metadata": {},
   "outputs": [
    {
     "name": "stdout",
     "output_type": "stream",
     "text": [
      "mango"
     ]
    }
   ],
   "source": [
    "fruit=\"mango\"\n",
    "for s in fruit:\n",
    "    print(s,end=\"\")\n"
   ]
  },
  {
   "cell_type": "markdown",
   "id": "4ce8ea98-2e0e-465e-97a6-75949b3e0d38",
   "metadata": {},
   "source": [
    "## nested loop"
   ]
  },
  {
   "cell_type": "code",
   "execution_count": 31,
   "id": "d65fb33f-2551-489e-9ccc-79ae3d99881b",
   "metadata": {},
   "outputs": [
    {
     "name": "stdout",
     "output_type": "stream",
     "text": [
      "1\n",
      "2\n",
      "3\n",
      "4\n",
      "5\n"
     ]
    }
   ],
   "source": [
    "for i in range(1,6):\n",
    "    print(i)"
   ]
  },
  {
   "cell_type": "code",
   "execution_count": 32,
   "id": "f3348131-3728-40a0-a359-599a79f56942",
   "metadata": {},
   "outputs": [
    {
     "name": "stdout",
     "output_type": "stream",
     "text": [
      "1\n",
      "3\n",
      "5\n",
      "7\n",
      "9\n"
     ]
    }
   ],
   "source": [
    "for i in range(1,10,2):\n",
    "    print(i)"
   ]
  },
  {
   "cell_type": "code",
   "execution_count": 37,
   "id": "ab3ae370-fdf5-43c8-bbdb-06be14d02bc2",
   "metadata": {},
   "outputs": [
    {
     "name": "stdout",
     "output_type": "stream",
     "text": [
      "*\n",
      "**\n",
      "***\n",
      "****\n",
      "*****\n",
      "******\n",
      "*******\n"
     ]
    }
   ],
   "source": [
    "n=7\n",
    "for i in range(0,n):\n",
    "    for j in range(0,i+1):\n",
    "        print(\"*\",end=\"\")\n",
    "    print(\"\\r\")\n"
   ]
  },
  {
   "cell_type": "code",
   "execution_count": 40,
   "id": "31052558-5ea9-4e87-b54d-9233fefcb215",
   "metadata": {},
   "outputs": [
    {
     "name": "stdout",
     "output_type": "stream",
     "text": [
      "0\n",
      "01\n",
      "012\n",
      "0123\n",
      "01234\n",
      "012345\n",
      "0123456\n"
     ]
    }
   ],
   "source": [
    "n=7\n",
    "for i in range (0,n):\n",
    "    for j in range(0,i+1):\n",
    "        print(j ,end=\"\")\n",
    "    print(\"\\r\")"
   ]
  },
  {
   "cell_type": "code",
   "execution_count": null,
   "id": "a9e569ec-f7ec-4a33-a5ae-d74787a65651",
   "metadata": {},
   "outputs": [],
   "source": []
  },
  {
   "cell_type": "markdown",
   "id": "2ed42c98-f3d2-4288-9c9c-4379d7be21f1",
   "metadata": {},
   "source": [
    "### loop controls\n",
    "# break   \n",
    "# continue"
   ]
  },
  {
   "cell_type": "code",
   "execution_count": 48,
   "id": "99c72bf8-caad-4cae-9eff-af8ff341a380",
   "metadata": {},
   "outputs": [
    {
     "name": "stdout",
     "output_type": "stream",
     "text": [
      "mango\n",
      "banana\n",
      "cherry\n",
      "the fruit is apple\n"
     ]
    }
   ],
   "source": [
    "## break\n",
    "fruit_list=[\"mango\",\"banana\",\"cherry\",\"apple\",\"papaya\"]\n",
    "for i in fruit_list:\n",
    "    if i== \"apple\":\n",
    "        print(\"the fruit is apple\")\n",
    "        break\n",
    "    print(i)\n"
   ]
  },
  {
   "cell_type": "code",
   "execution_count": 49,
   "id": "078b7aa2-ce9c-474c-ba80-6c7450af0df9",
   "metadata": {},
   "outputs": [
    {
     "name": "stdout",
     "output_type": "stream",
     "text": [
      "mango\n",
      "banana\n",
      "cherry\n",
      "the fruit is apple\n",
      "apple\n",
      "papaya\n"
     ]
    }
   ],
   "source": [
    "### pass\n",
    "fruit_list=[\"mango\",\"banana\",\"cherry\",\"apple\",\"papaya\"]\n",
    "for i in fruit_list:\n",
    "    if i== \"apple\":\n",
    "        print(\"the fruit is apple\")\n",
    "        pass\n",
    "    print(i)\n"
   ]
  },
  {
   "cell_type": "code",
   "execution_count": 50,
   "id": "8b3364bd-7bad-4e41-bddc-f05f562d9878",
   "metadata": {},
   "outputs": [
    {
     "name": "stdout",
     "output_type": "stream",
     "text": [
      "mango\n",
      "banana\n",
      "cherry\n",
      "the fruit is apple\n",
      "papaya\n"
     ]
    }
   ],
   "source": [
    "## continue\n",
    "fruit_list=[\"mango\",\"banana\",\"cherry\",\"apple\",\"papaya\"]\n",
    "for i in fruit_list:\n",
    "    if i== \"apple\":\n",
    "        print(\"the fruit is apple\")\n",
    "        continue\n",
    "    print(i)\n"
   ]
  },
  {
   "cell_type": "code",
   "execution_count": null,
   "id": "3367892f-0ba1-48c8-8b19-aaeee3dbcdb3",
   "metadata": {},
   "outputs": [],
   "source": []
  },
  {
   "cell_type": "code",
   "execution_count": null,
   "id": "159e18bf-a2d3-40c3-bff9-26d433fe49bc",
   "metadata": {},
   "outputs": [],
   "source": []
  },
  {
   "cell_type": "code",
   "execution_count": null,
   "id": "e0d3fa11-4538-4c2e-9c63-f3bdb0c7f0f8",
   "metadata": {},
   "outputs": [],
   "source": []
  },
  {
   "cell_type": "code",
   "execution_count": null,
   "id": "5917d9db-75bc-4588-ba13-fe43bb16d82c",
   "metadata": {},
   "outputs": [],
   "source": []
  },
  {
   "cell_type": "code",
   "execution_count": null,
   "id": "6be48e70-f10c-4aeb-ab2d-065daebae965",
   "metadata": {},
   "outputs": [],
   "source": []
  },
  {
   "cell_type": "code",
   "execution_count": null,
   "id": "029e11c4-b02d-4c61-9b69-8028041cd609",
   "metadata": {},
   "outputs": [],
   "source": []
  },
  {
   "cell_type": "code",
   "execution_count": null,
   "id": "c4579b7d-253b-4b3d-84f7-5664d441754e",
   "metadata": {},
   "outputs": [],
   "source": []
  },
  {
   "cell_type": "code",
   "execution_count": null,
   "id": "13178ec8-5d2f-4d00-920f-d9674590e85e",
   "metadata": {},
   "outputs": [],
   "source": []
  },
  {
   "cell_type": "code",
   "execution_count": null,
   "id": "103254fc-7644-4373-a0cb-0b86fa7527d8",
   "metadata": {},
   "outputs": [],
   "source": []
  }
 ],
 "metadata": {
  "kernelspec": {
   "display_name": "Python 3 (ipykernel)",
   "language": "python",
   "name": "python3"
  },
  "language_info": {
   "codemirror_mode": {
    "name": "ipython",
    "version": 3
   },
   "file_extension": ".py",
   "mimetype": "text/x-python",
   "name": "python",
   "nbconvert_exporter": "python",
   "pygments_lexer": "ipython3",
   "version": "3.10.8"
  }
 },
 "nbformat": 4,
 "nbformat_minor": 5
}
