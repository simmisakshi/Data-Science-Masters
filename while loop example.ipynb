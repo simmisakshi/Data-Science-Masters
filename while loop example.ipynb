{
 "cells": [
  {
   "cell_type": "markdown",
   "id": "b6659122-8ebc-457d-b7e3-2a2f493f63cf",
   "metadata": {},
   "source": [
    "# while loop"
   ]
  },
  {
   "cell_type": "markdown",
   "id": "a16164d4-8c15-428b-b8c5-5bb1d379ee9e",
   "metadata": {},
   "source": [
    "### while loop--It is used to execute a block of statements repeatedly until a given condition is satisfied. And when the given condition becomes false,the line immedeiately after the loop in the program is executed."
   ]
  },
  {
   "cell_type": "markdown",
   "id": "863d3191-07bd-4302-94ae-500e04e81314",
   "metadata": {},
   "source": [
    "##### while loop comes under indefinite iteration."
   ]
  },
  {
   "cell_type": "code",
   "execution_count": 3,
   "id": "9fb7017a-7bfe-4262-bfbd-bd6437eac57d",
   "metadata": {},
   "outputs": [
    {
     "name": "stdout",
     "output_type": "stream",
     "text": [
      "hello sakshi\n",
      "hello sakshi\n",
      "hello sakshi\n"
     ]
    }
   ],
   "source": [
    "## example 1\n",
    "## python program to illustrate\n",
    "## while loop\n",
    "count=0\n",
    "while count<3:\n",
    "    count=count+1\n",
    "    print(\"hello sakshi\")"
   ]
  },
  {
   "cell_type": "code",
   "execution_count": null,
   "id": "7db30f5c-85a0-4849-bcfb-d151ed284348",
   "metadata": {},
   "outputs": [],
   "source": [
    "### in the above example the condition for while will be true as long as the counter variable(count) is less than 3."
   ]
  },
  {
   "cell_type": "code",
   "execution_count": 4,
   "id": "de9664f0-9a70-4092-820a-dd2a3a8b0998",
   "metadata": {},
   "outputs": [
    {
     "name": "stdout",
     "output_type": "stream",
     "text": [
      "7\n",
      "6\n",
      "5\n",
      "4\n",
      "3\n",
      "2\n",
      "1\n"
     ]
    }
   ],
   "source": [
    "## example 2----- python while loop with list\n",
    "### check if list still contain any element\n",
    "a=[1,2,3,4,5,6,7]\n",
    "while a:\n",
    "    print(a.pop())\n"
   ]
  },
  {
   "cell_type": "code",
   "execution_count": null,
   "id": "f9b2f466-58ef-44b9-a8ca-a5e1eb8302be",
   "metadata": {},
   "outputs": [],
   "source": [
    "### in the above example we have run a while loop over a list that will run untill there is an element present in the list."
   ]
  },
  {
   "cell_type": "code",
   "execution_count": 10,
   "id": "1e3b04d0-2a52-49b9-becd-1e689d1dfe80",
   "metadata": {},
   "outputs": [
    {
     "name": "stdout",
     "output_type": "stream",
     "text": [
      "hello sakshi\n",
      "hello sakshi\n",
      "hello sakshi\n",
      "hello sakshi\n",
      "hello sakshi\n"
     ]
    }
   ],
   "source": [
    "### example 3 ---- single statement while block.\n",
    "# python program to illustrate single statement while block\n",
    "count=0\n",
    "while(count<5):count += 1; print(\"hello sakshi\")\n"
   ]
  },
  {
   "cell_type": "code",
   "execution_count": null,
   "id": "09fb5556-4ace-4431-8c73-0e78d1dc8c04",
   "metadata": {},
   "outputs": [],
   "source": [
    "print(\"sakshi\")"
   ]
  },
  {
   "cell_type": "code",
   "execution_count": null,
   "id": "dd22613f-4785-4b55-9d9d-21f827a172c8",
   "metadata": {},
   "outputs": [],
   "source": []
  },
  {
   "cell_type": "code",
   "execution_count": null,
   "id": "29b21c52-6059-42ec-b8ba-cacca3b15354",
   "metadata": {},
   "outputs": [],
   "source": []
  },
  {
   "cell_type": "code",
   "execution_count": null,
   "id": "d17c9d52-30a2-45ef-b10c-21ff2484b4a8",
   "metadata": {},
   "outputs": [],
   "source": []
  },
  {
   "cell_type": "code",
   "execution_count": null,
   "id": "1d23a39b-d684-4f34-878d-1f0ddd3bea20",
   "metadata": {},
   "outputs": [],
   "source": []
  },
  {
   "cell_type": "code",
   "execution_count": 21,
   "id": "bf608a06-a116-46f6-83e3-0474f3d215ce",
   "metadata": {},
   "outputs": [
    {
     "name": "stdout",
     "output_type": "stream",
     "text": [
      "current letter: k\n",
      "current letter: h\n",
      "current letter: i\n",
      "current letter: h\n",
      "current letter: r\n",
      "current letter: e\n",
      "current letter: y\n"
     ]
    }
   ],
   "source": [
    "## example 4---- loop control statement\n",
    "## print all letters except for s and a\n",
    "i=0\n",
    "b='sakshishreya'\n",
    "while i< len (b):\n",
    "    if b[i]=='s' or b[i]=='a':\n",
    "        i+=1\n",
    "        continue\n",
    "    print(\"current letter:\",b[i])\n",
    "    i+=1\n",
    "    "
   ]
  },
  {
   "cell_type": "code",
   "execution_count": null,
   "id": "d23a7a0e-d8a0-44a6-9384-ea38de1ea7bb",
   "metadata": {},
   "outputs": [],
   "source": [
    "print(\"saakshi\")"
   ]
  },
  {
   "cell_type": "code",
   "execution_count": null,
   "id": "a7bf172d-9800-4a48-8cc1-ac0c2836c95a",
   "metadata": {},
   "outputs": [],
   "source": []
  }
 ],
 "metadata": {
  "kernelspec": {
   "display_name": "Python 3 (ipykernel)",
   "language": "python",
   "name": "python3"
  },
  "language_info": {
   "codemirror_mode": {
    "name": "ipython",
    "version": 3
   },
   "file_extension": ".py",
   "mimetype": "text/x-python",
   "name": "python",
   "nbconvert_exporter": "python",
   "pygments_lexer": "ipython3",
   "version": "3.10.8"
  }
 },
 "nbformat": 4,
 "nbformat_minor": 5
}
