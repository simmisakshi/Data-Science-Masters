{
 "cells": [
  {
   "cell_type": "code",
   "execution_count": 7,
   "id": "35913c06-59e1-44f4-a886-e726f2d383b5",
   "metadata": {},
   "outputs": [],
   "source": [
    "a=10"
   ]
  },
  {
   "cell_type": "code",
   "execution_count": 8,
   "id": "94dc6cae-8691-43a1-82b8-55393933e079",
   "metadata": {},
   "outputs": [
    {
     "data": {
      "text/plain": [
       "10"
      ]
     },
     "execution_count": 8,
     "metadata": {},
     "output_type": "execute_result"
    }
   ],
   "source": [
    "a"
   ]
  },
  {
   "cell_type": "markdown",
   "id": "dcfd9e74-fb34-4847-b882-99b692350d22",
   "metadata": {},
   "source": [
    "# this is sakshi"
   ]
  },
  {
   "cell_type": "code",
   "execution_count": 11,
   "id": "4752e832-d075-4b23-bd8a-e24665600fa3",
   "metadata": {},
   "outputs": [
    {
     "data": {
      "text/plain": [
       "2"
      ]
     },
     "execution_count": 11,
     "metadata": {},
     "output_type": "execute_result"
    }
   ],
   "source": [
    "1+1"
   ]
  },
  {
   "cell_type": "code",
   "execution_count": 12,
   "id": "bc50e80f-265d-42b1-99c9-44c30f819585",
   "metadata": {},
   "outputs": [],
   "source": [
    "#this is first video\n",
    "a=20"
   ]
  },
  {
   "cell_type": "code",
   "execution_count": 13,
   "id": "bf6f66a5-b4a3-4a71-842d-6d27014dbb81",
   "metadata": {},
   "outputs": [
    {
     "data": {
      "text/plain": [
       "20"
      ]
     },
     "execution_count": 13,
     "metadata": {},
     "output_type": "execute_result"
    }
   ],
   "source": [
    "a"
   ]
  },
  {
   "cell_type": "code",
   "execution_count": 17,
   "id": "ba898d9f-ec70-4f1b-bd21-248126d19b14",
   "metadata": {},
   "outputs": [
    {
     "ename": "SyntaxError",
     "evalue": "invalid syntax (3442769406.py, line 1)",
     "output_type": "error",
     "traceback": [
      "\u001b[0;36m  Cell \u001b[0;32mIn[17], line 1\u001b[0;36m\u001b[0m\n\u001b[0;31m    ---\u001b[0m\n\u001b[0m       ^\u001b[0m\n\u001b[0;31mSyntaxError\u001b[0m\u001b[0;31m:\u001b[0m invalid syntax\n"
     ]
    }
   ],
   "source": [
    "---\n",
    "sakfg\n",
    "khghjj\n",
    "hhbjhbjh\n",
    "---\n",
    "n=8"
   ]
  },
  {
   "cell_type": "markdown",
   "id": "9514a76f-ba1b-4424-84d6-d5bba4c8b3c8",
   "metadata": {},
   "source": [
    "# hello"
   ]
  },
  {
   "cell_type": "markdown",
   "id": "0d889d1c-b239-4fde-8115-eb617ccf1975",
   "metadata": {},
   "source": [
    "1 sakshi"
   ]
  },
  {
   "cell_type": "markdown",
   "id": "5a4623be-9efa-4d77-baf3-8670c2b0fb3a",
   "metadata": {},
   "source": [
    "### numbers"
   ]
  },
  {
   "cell_type": "code",
   "execution_count": 19,
   "id": "eddface7-b0f3-42fc-a167-d0d28a64ae42",
   "metadata": {},
   "outputs": [
    {
     "data": {
      "text/plain": [
       "4"
      ]
     },
     "execution_count": 19,
     "metadata": {},
     "output_type": "execute_result"
    }
   ],
   "source": [
    "1+3"
   ]
  },
  {
   "cell_type": "code",
   "execution_count": 20,
   "id": "6a6050be-3994-4ac7-aa54-a6a8d151dbd0",
   "metadata": {},
   "outputs": [
    {
     "name": "stdout",
     "output_type": "stream",
     "text": [
      "4\n"
     ]
    }
   ],
   "source": [
    "print(1+3)"
   ]
  },
  {
   "cell_type": "code",
   "execution_count": 22,
   "id": "ee3d57fc-14fb-466b-bf52-3c086c230781",
   "metadata": {},
   "outputs": [
    {
     "data": {
      "text/plain": [
       "5"
      ]
     },
     "execution_count": 22,
     "metadata": {},
     "output_type": "execute_result"
    }
   ],
   "source": [
    "a=5\n",
    "a"
   ]
  },
  {
   "cell_type": "code",
   "execution_count": 23,
   "id": "1067a30f-2335-4ae3-a51a-30e11f783681",
   "metadata": {},
   "outputs": [
    {
     "name": "stdout",
     "output_type": "stream",
     "text": [
      "5\n"
     ]
    }
   ],
   "source": [
    "a=5\n",
    "print(a)"
   ]
  },
  {
   "cell_type": "code",
   "execution_count": 25,
   "id": "3d6ba824-10db-49e4-b008-f73c1f04221c",
   "metadata": {},
   "outputs": [
    {
     "name": "stdout",
     "output_type": "stream",
     "text": [
      "hello world\n"
     ]
    }
   ],
   "source": [
    "print(\"hello world\")"
   ]
  },
  {
   "cell_type": "code",
   "execution_count": 29,
   "id": "05a497e7-2ef7-498b-bcac-1646aa53c51f",
   "metadata": {},
   "outputs": [
    {
     "name": "stdout",
     "output_type": "stream",
     "text": [
      "hello world this is my first class this is the pw skills class python is a very easy and interesting \n",
      " language and i really liked it very much\n"
     ]
    }
   ],
   "source": [
    "print(\"hello world this is my first class this is the pw skills class python is a very easy and interesting \\n language and i really liked it very much\")"
   ]
  },
  {
   "cell_type": "markdown",
   "id": "1596fc70-3787-4ff6-b846-43ebd66ca4a3",
   "metadata": {},
   "source": [
    "## variable assignment"
   ]
  },
  {
   "cell_type": "code",
   "execution_count": 33,
   "id": "d4e60786-0a1c-4e03-92a8-61eef38f549c",
   "metadata": {},
   "outputs": [],
   "source": [
    "name=\"sakshi\"\n",
    "collage=\"indo global group of college\""
   ]
  },
  {
   "cell_type": "code",
   "execution_count": 34,
   "id": "deeabb0a-198b-4244-87e6-cd076a9d4197",
   "metadata": {},
   "outputs": [
    {
     "data": {
      "text/plain": [
       "'sakshi'"
      ]
     },
     "execution_count": 34,
     "metadata": {},
     "output_type": "execute_result"
    }
   ],
   "source": [
    "name"
   ]
  },
  {
   "cell_type": "code",
   "execution_count": 36,
   "id": "f3adabae-04fc-4161-93e2-0846c71f41e1",
   "metadata": {},
   "outputs": [
    {
     "data": {
      "text/plain": [
       "'indo global group of college'"
      ]
     },
     "execution_count": 36,
     "metadata": {},
     "output_type": "execute_result"
    }
   ],
   "source": [
    "collage"
   ]
  },
  {
   "cell_type": "code",
   "execution_count": 39,
   "id": "79fec8e3-daa2-4f9a-8858-a2a6ae01fab4",
   "metadata": {},
   "outputs": [],
   "source": [
    "number=18"
   ]
  },
  {
   "cell_type": "code",
   "execution_count": 40,
   "id": "89e6b002-4f14-402a-ac78-72d5ff4918c8",
   "metadata": {},
   "outputs": [
    {
     "data": {
      "text/plain": [
       "18"
      ]
     },
     "execution_count": 40,
     "metadata": {},
     "output_type": "execute_result"
    }
   ],
   "source": [
    "number"
   ]
  },
  {
   "cell_type": "code",
   "execution_count": 41,
   "id": "b352fde0-057d-47b3-8586-258d4a10f5e9",
   "metadata": {},
   "outputs": [
    {
     "data": {
      "text/plain": [
       "str"
      ]
     },
     "execution_count": 41,
     "metadata": {},
     "output_type": "execute_result"
    }
   ],
   "source": [
    "type(\"\")"
   ]
  },
  {
   "cell_type": "code",
   "execution_count": 42,
   "id": "e3864758-19fb-4793-837f-934c4eaff009",
   "metadata": {},
   "outputs": [
    {
     "data": {
      "text/plain": [
       "int"
      ]
     },
     "execution_count": 42,
     "metadata": {},
     "output_type": "execute_result"
    }
   ],
   "source": [
    "type(number)"
   ]
  },
  {
   "cell_type": "code",
   "execution_count": 51,
   "id": "7ff2a9ac-a6c1-4f74-88b1-72ed6bd03fe5",
   "metadata": {},
   "outputs": [],
   "source": [
    "decimal_num=2.5"
   ]
  },
  {
   "cell_type": "code",
   "execution_count": 52,
   "id": "0c3dd547-53d1-468f-904c-c8127905bf31",
   "metadata": {},
   "outputs": [
    {
     "data": {
      "text/plain": [
       "2.5"
      ]
     },
     "execution_count": 52,
     "metadata": {},
     "output_type": "execute_result"
    }
   ],
   "source": [
    "decimal_num"
   ]
  },
  {
   "cell_type": "code",
   "execution_count": 53,
   "id": "2654d4f7-f93c-4bbc-9d12-028b67e05342",
   "metadata": {},
   "outputs": [
    {
     "data": {
      "text/plain": [
       "float"
      ]
     },
     "execution_count": 53,
     "metadata": {},
     "output_type": "execute_result"
    }
   ],
   "source": [
    "type(decimal_num)"
   ]
  },
  {
   "cell_type": "code",
   "execution_count": 55,
   "id": "58d41ef9-b856-4663-9409-c1a26f17a077",
   "metadata": {},
   "outputs": [
    {
     "data": {
      "text/plain": [
       "complex"
      ]
     },
     "execution_count": 55,
     "metadata": {},
     "output_type": "execute_result"
    }
   ],
   "source": [
    "type(1+2j)"
   ]
  },
  {
   "cell_type": "code",
   "execution_count": 56,
   "id": "b8b52c84-bda4-48fe-a194-ccd9d08f83cb",
   "metadata": {},
   "outputs": [
    {
     "name": "stdout",
     "output_type": "stream",
     "text": [
      "hello\n"
     ]
    }
   ],
   "source": [
    "print('hello')"
   ]
  },
  {
   "cell_type": "code",
   "execution_count": null,
   "id": "96733ad2-d946-4ca3-9682-965cda098866",
   "metadata": {},
   "outputs": [],
   "source": [
    "#bad way\n",
    "## dont start a variable with a number\n",
    "1a\n",
    "1wdddcdfcf"
   ]
  },
  {
   "cell_type": "code",
   "execution_count": null,
   "id": "e494ce5c-ed43-4a15-b95d-38c1767d9da1",
   "metadata": {},
   "outputs": [],
   "source": [
    "#variable are case sensitive\n",
    "college=\"igc\"\n",
    "College=\"indo\"\n",
    "print(college)\n",
    "print(College)"
   ]
  },
  {
   "cell_type": "code",
   "execution_count": null,
   "id": "87227b52-1285-4c3a-9ee1-73ebde078686",
   "metadata": {},
   "outputs": [],
   "source": [
    "#inbuilt function \n",
    "int,str,bool,len,yield,return"
   ]
  },
  {
   "cell_type": "code",
   "execution_count": null,
   "id": "46ab7776-2137-450b-89c1-f6208e202d84",
   "metadata": {},
   "outputs": [],
   "source": [
    "#boolean\n",
    "true falseT"
   ]
  },
  {
   "cell_type": "code",
   "execution_count": 1,
   "id": "77947bbf-ec27-4541-b0e0-f8228807f530",
   "metadata": {},
   "outputs": [
    {
     "data": {
      "text/plain": [
       "True"
      ]
     },
     "execution_count": 1,
     "metadata": {},
     "output_type": "execute_result"
    }
   ],
   "source": [
    "True"
   ]
  },
  {
   "cell_type": "code",
   "execution_count": 2,
   "id": "b7d46e5d-6176-4e0c-b234-a6eea298fb0a",
   "metadata": {},
   "outputs": [
    {
     "data": {
      "text/plain": [
       "False"
      ]
     },
     "execution_count": 2,
     "metadata": {},
     "output_type": "execute_result"
    }
   ],
   "source": [
    "True and False"
   ]
  },
  {
   "cell_type": "code",
   "execution_count": 3,
   "id": "ab8ab6b6-bceb-453b-9704-2962b5fcacc4",
   "metadata": {},
   "outputs": [
    {
     "data": {
      "text/plain": [
       "True"
      ]
     },
     "execution_count": 3,
     "metadata": {},
     "output_type": "execute_result"
    }
   ],
   "source": [
    "True and True"
   ]
  },
  {
   "cell_type": "code",
   "execution_count": 4,
   "id": "15013578-b220-4882-a858-62af899586b6",
   "metadata": {},
   "outputs": [
    {
     "data": {
      "text/plain": [
       "True"
      ]
     },
     "execution_count": 4,
     "metadata": {},
     "output_type": "execute_result"
    }
   ],
   "source": [
    "True or False"
   ]
  },
  {
   "cell_type": "code",
   "execution_count": 6,
   "id": "f964e375-9460-4d5a-80d2-47b449d230fa",
   "metadata": {},
   "outputs": [
    {
     "data": {
      "text/plain": [
       "False"
      ]
     },
     "execution_count": 6,
     "metadata": {},
     "output_type": "execute_result"
    }
   ],
   "source": [
    "not True"
   ]
  },
  {
   "cell_type": "code",
   "execution_count": 7,
   "id": "2f4ca2f3-71de-4b98-8e82-4efc3265dbf6",
   "metadata": {},
   "outputs": [
    {
     "data": {
      "text/plain": [
       "False"
      ]
     },
     "execution_count": 7,
     "metadata": {},
     "output_type": "execute_result"
    }
   ],
   "source": [
    "#typecasting\n",
    "bool(0)"
   ]
  },
  {
   "cell_type": "code",
   "execution_count": 8,
   "id": "3f7f8e70-7df8-4bc0-a3cc-9d66fa999285",
   "metadata": {},
   "outputs": [
    {
     "data": {
      "text/plain": [
       "True"
      ]
     },
     "execution_count": 8,
     "metadata": {},
     "output_type": "execute_result"
    }
   ],
   "source": [
    "bool(1)"
   ]
  },
  {
   "cell_type": "code",
   "execution_count": 18,
   "id": "8c474c83-2513-4084-bc6a-392a55722c6c",
   "metadata": {},
   "outputs": [
    {
     "data": {
      "text/plain": [
       "'23'"
      ]
     },
     "execution_count": 18,
     "metadata": {},
     "output_type": "execute_result"
    }
   ],
   "source": [
    "str(23)"
   ]
  },
  {
   "cell_type": "code",
   "execution_count": 17,
   "id": "cdf0314d-9737-4b88-8911-8dd07494a983",
   "metadata": {},
   "outputs": [
    {
     "name": "stdout",
     "output_type": "stream",
     "text": [
      "True\n"
     ]
    }
   ],
   "source": [
    "a=1\n",
    "if bool(a)==True:\n",
    "    print(\"True\")"
   ]
  },
  {
   "cell_type": "code",
   "execution_count": 19,
   "id": "318d17ce-4938-47b2-9e8f-c7f9fc46c4ae",
   "metadata": {},
   "outputs": [
    {
     "data": {
      "text/plain": [
       "int"
      ]
     },
     "execution_count": 19,
     "metadata": {},
     "output_type": "execute_result"
    }
   ],
   "source": [
    "type(int(\"23\"))"
   ]
  },
  {
   "cell_type": "markdown",
   "id": "0b0b3c14-99be-44b2-8d2a-37dda6d74c17",
   "metadata": {},
   "source": [
    "# dynamic typing"
   ]
  },
  {
   "cell_type": "markdown",
   "id": "090b3841-f1d1-4c6e-9c1c-bfe8797842ea",
   "metadata": {},
   "source": [
    "## cocatenation between different types"
   ]
  },
  {
   "cell_type": "code",
   "execution_count": 20,
   "id": "5162eaf7-3201-49e1-8e41-cf0d13e0976f",
   "metadata": {},
   "outputs": [
    {
     "data": {
      "text/plain": [
       "'11'"
      ]
     },
     "execution_count": 20,
     "metadata": {},
     "output_type": "execute_result"
    }
   ],
   "source": [
    "\"1\"+\"1\""
   ]
  },
  {
   "cell_type": "code",
   "execution_count": 21,
   "id": "b36309e9-0822-4a75-acf8-b299d113bd86",
   "metadata": {},
   "outputs": [
    {
     "data": {
      "text/plain": [
       "'1sakshi'"
      ]
     },
     "execution_count": 21,
     "metadata": {},
     "output_type": "execute_result"
    }
   ],
   "source": [
    "\"1\"+\"sakshi\""
   ]
  },
  {
   "cell_type": "code",
   "execution_count": 22,
   "id": "4d21c6a6-9e1a-41d3-9321-d1ab0a89d20c",
   "metadata": {},
   "outputs": [
    {
     "data": {
      "text/plain": [
       "2"
      ]
     },
     "execution_count": 22,
     "metadata": {},
     "output_type": "execute_result"
    }
   ],
   "source": [
    "int(\"1\")+ int(\"1\")"
   ]
  },
  {
   "cell_type": "code",
   "execution_count": 23,
   "id": "880cbf4d-0fb6-453c-8138-beace5f5cb71",
   "metadata": {},
   "outputs": [
    {
     "ename": "TypeError",
     "evalue": "unsupported operand type(s) for +: 'int' and 'str'",
     "output_type": "error",
     "traceback": [
      "\u001b[0;31m---------------------------------------------------------------------------\u001b[0m",
      "\u001b[0;31mTypeError\u001b[0m                                 Traceback (most recent call last)",
      "Cell \u001b[0;32mIn[23], line 1\u001b[0m\n\u001b[0;32m----> 1\u001b[0m \u001b[38;5;28;43mint\u001b[39;49m\u001b[43m(\u001b[49m\u001b[38;5;124;43m\"\u001b[39;49m\u001b[38;5;124;43m1\u001b[39;49m\u001b[38;5;124;43m\"\u001b[39;49m\u001b[43m)\u001b[49m\u001b[38;5;241;43m+\u001b[39;49m\u001b[43m(\u001b[49m\u001b[38;5;124;43m\"\u001b[39;49m\u001b[38;5;124;43m1\u001b[39;49m\u001b[38;5;124;43m\"\u001b[39;49m\u001b[43m)\u001b[49m\n",
      "\u001b[0;31mTypeError\u001b[0m: unsupported operand type(s) for +: 'int' and 'str'"
     ]
    }
   ],
   "source": [
    "int(\"1\")+(\"1\")"
   ]
  },
  {
   "cell_type": "code",
   "execution_count": null,
   "id": "eaf27a87-389a-431c-b26e-40c101142ec9",
   "metadata": {},
   "outputs": [],
   "source": []
  },
  {
   "cell_type": "code",
   "execution_count": null,
   "id": "5c3fb7a9-1387-4f21-a85c-2386ef92ed0b",
   "metadata": {},
   "outputs": [],
   "source": []
  },
  {
   "cell_type": "code",
   "execution_count": null,
   "id": "e974318e-1c36-4fe4-a12e-529ead2108e2",
   "metadata": {},
   "outputs": [],
   "source": []
  },
  {
   "cell_type": "code",
   "execution_count": null,
   "id": "9bb58e96-ec4d-4ce0-ac6b-ae997156d81a",
   "metadata": {},
   "outputs": [],
   "source": []
  },
  {
   "cell_type": "code",
   "execution_count": null,
   "id": "5f8af1c9-fd36-4b9f-a0fc-580124d9cc36",
   "metadata": {},
   "outputs": [],
   "source": []
  },
  {
   "cell_type": "code",
   "execution_count": null,
   "id": "767f814f-98dc-4f5a-8cb0-69dd9aa21a56",
   "metadata": {},
   "outputs": [],
   "source": []
  },
  {
   "cell_type": "code",
   "execution_count": null,
   "id": "d92a3344-c9bc-4c6c-a443-d6d22dd77c4f",
   "metadata": {},
   "outputs": [],
   "source": []
  },
  {
   "cell_type": "code",
   "execution_count": null,
   "id": "bed0fa59-adfa-4d31-95b7-d48e8f2fbd91",
   "metadata": {},
   "outputs": [],
   "source": []
  },
  {
   "cell_type": "code",
   "execution_count": null,
   "id": "e6b5231a-eb13-4f1a-a171-7e6817abcafd",
   "metadata": {},
   "outputs": [],
   "source": []
  },
  {
   "cell_type": "code",
   "execution_count": null,
   "id": "36cd33e7-9b23-481f-a0b3-761054b6f240",
   "metadata": {},
   "outputs": [],
   "source": []
  },
  {
   "cell_type": "code",
   "execution_count": null,
   "id": "411178f9-5414-4e95-9201-001d64d64cdd",
   "metadata": {},
   "outputs": [],
   "source": []
  },
  {
   "cell_type": "code",
   "execution_count": null,
   "id": "a19ba247-846a-4d18-a582-2980830e1e66",
   "metadata": {},
   "outputs": [],
   "source": []
  },
  {
   "cell_type": "code",
   "execution_count": null,
   "id": "56e27ac3-efe5-4faa-bf7e-2dbe13485ec7",
   "metadata": {},
   "outputs": [],
   "source": []
  },
  {
   "cell_type": "code",
   "execution_count": null,
   "id": "fb7e247d-0e4e-46e4-a9eb-8d77f9a7e182",
   "metadata": {},
   "outputs": [],
   "source": []
  },
  {
   "cell_type": "code",
   "execution_count": null,
   "id": "e4774964-dc49-47fd-bc60-8f3cba2265c5",
   "metadata": {},
   "outputs": [],
   "source": []
  },
  {
   "cell_type": "code",
   "execution_count": null,
   "id": "d0ec8585-1969-4c31-81b2-6913fe08c0d7",
   "metadata": {},
   "outputs": [],
   "source": []
  },
  {
   "cell_type": "code",
   "execution_count": null,
   "id": "782e88a9-0b44-410d-b0c3-9d8a1e0b9c6d",
   "metadata": {},
   "outputs": [],
   "source": []
  },
  {
   "cell_type": "code",
   "execution_count": null,
   "id": "15abcf57-ec19-4593-81c9-9e6852d5af8c",
   "metadata": {},
   "outputs": [],
   "source": []
  },
  {
   "cell_type": "code",
   "execution_count": null,
   "id": "1209d1f6-a185-415a-9ab6-1e3eb7e9ba1b",
   "metadata": {},
   "outputs": [],
   "source": []
  },
  {
   "cell_type": "code",
   "execution_count": null,
   "id": "c9940e31-159c-41cd-8d05-2fcb6e09e4ac",
   "metadata": {},
   "outputs": [],
   "source": []
  },
  {
   "cell_type": "code",
   "execution_count": null,
   "id": "eafe9348-ebd1-4d52-aa8c-e731202a4684",
   "metadata": {},
   "outputs": [],
   "source": []
  },
  {
   "cell_type": "code",
   "execution_count": null,
   "id": "851cdc42-4960-41ae-8e79-5d4fd369112a",
   "metadata": {},
   "outputs": [],
   "source": []
  },
  {
   "cell_type": "code",
   "execution_count": null,
   "id": "496ed763-c87e-453c-ac77-3e38302b4a8f",
   "metadata": {},
   "outputs": [],
   "source": []
  },
  {
   "cell_type": "code",
   "execution_count": null,
   "id": "8f6ed47b-4eb6-48cd-a680-db867aed5393",
   "metadata": {},
   "outputs": [],
   "source": []
  },
  {
   "cell_type": "code",
   "execution_count": null,
   "id": "2253a2c7-8cca-4534-bacf-07db0ee34d40",
   "metadata": {},
   "outputs": [],
   "source": []
  },
  {
   "cell_type": "code",
   "execution_count": null,
   "id": "787e7560-9caf-4948-9322-22e8b3645254",
   "metadata": {},
   "outputs": [],
   "source": []
  },
  {
   "cell_type": "code",
   "execution_count": null,
   "id": "c4451613-2319-4888-b2c2-4b03f6b5e76c",
   "metadata": {},
   "outputs": [],
   "source": []
  },
  {
   "cell_type": "code",
   "execution_count": null,
   "id": "da3b2400-7e52-4f4b-b90a-b81e7b3d209d",
   "metadata": {},
   "outputs": [],
   "source": []
  },
  {
   "cell_type": "code",
   "execution_count": null,
   "id": "c4f17d87-0a37-4586-9b2a-eab51ccd7527",
   "metadata": {},
   "outputs": [],
   "source": []
  },
  {
   "cell_type": "code",
   "execution_count": null,
   "id": "2886aba2-f3c6-4f99-b453-5aa5a4d4117a",
   "metadata": {},
   "outputs": [],
   "source": []
  },
  {
   "cell_type": "code",
   "execution_count": null,
   "id": "1fc235ab-c1ee-436a-99de-a6d3fa10c012",
   "metadata": {},
   "outputs": [],
   "source": []
  },
  {
   "cell_type": "code",
   "execution_count": null,
   "id": "894c988a-c0a2-42fd-8ae5-2c54ce0f1903",
   "metadata": {},
   "outputs": [],
   "source": []
  },
  {
   "cell_type": "code",
   "execution_count": null,
   "id": "522c1fa0-2285-431c-ad5c-2faeda03a9b0",
   "metadata": {},
   "outputs": [],
   "source": []
  },
  {
   "cell_type": "code",
   "execution_count": null,
   "id": "e7462223-5f0a-4c01-aa19-0e86b31845a1",
   "metadata": {},
   "outputs": [],
   "source": []
  },
  {
   "cell_type": "code",
   "execution_count": null,
   "id": "b4c054c5-70c8-4ff6-a3bb-ba70b90d3032",
   "metadata": {},
   "outputs": [],
   "source": []
  },
  {
   "cell_type": "code",
   "execution_count": null,
   "id": "97883bb0-39fe-48e4-91ab-9badc65f3b22",
   "metadata": {},
   "outputs": [],
   "source": []
  },
  {
   "cell_type": "code",
   "execution_count": null,
   "id": "0cc1533f-08bb-4023-addf-68f5210952ef",
   "metadata": {},
   "outputs": [],
   "source": []
  },
  {
   "cell_type": "code",
   "execution_count": null,
   "id": "df70651e-17c8-4361-aa9a-b19ab2d15afc",
   "metadata": {},
   "outputs": [],
   "source": []
  },
  {
   "cell_type": "code",
   "execution_count": null,
   "id": "42acc1a6-2065-48cc-8e87-c467f10dc04d",
   "metadata": {},
   "outputs": [],
   "source": []
  },
  {
   "cell_type": "code",
   "execution_count": null,
   "id": "59f41ac2-5b1e-40fd-8d72-7cdfb94d0dd8",
   "metadata": {},
   "outputs": [],
   "source": []
  },
  {
   "cell_type": "code",
   "execution_count": null,
   "id": "1d71c8bb-fe80-4c94-a647-9dc427d4ff99",
   "metadata": {},
   "outputs": [],
   "source": []
  },
  {
   "cell_type": "code",
   "execution_count": null,
   "id": "f58010ec-5096-4cf8-b92b-dfeedae18c5a",
   "metadata": {},
   "outputs": [],
   "source": []
  },
  {
   "cell_type": "code",
   "execution_count": null,
   "id": "97273342-b5aa-44de-8f65-d68e913c4712",
   "metadata": {},
   "outputs": [],
   "source": []
  },
  {
   "cell_type": "code",
   "execution_count": null,
   "id": "1a9a9c61-adb6-4b60-bced-6d49f731247e",
   "metadata": {},
   "outputs": [],
   "source": []
  },
  {
   "cell_type": "code",
   "execution_count": null,
   "id": "4eb626a2-601c-449b-8a8e-cb3ab2845a5a",
   "metadata": {},
   "outputs": [],
   "source": []
  },
  {
   "cell_type": "code",
   "execution_count": null,
   "id": "0f2eaf99-a656-4ee7-b373-077676c849cf",
   "metadata": {},
   "outputs": [],
   "source": []
  },
  {
   "cell_type": "code",
   "execution_count": null,
   "id": "1e1e264e-ef11-46d9-9cc4-4830da2da427",
   "metadata": {},
   "outputs": [],
   "source": []
  },
  {
   "cell_type": "code",
   "execution_count": null,
   "id": "19e5978a-5a01-44a0-884c-46f0bb3fdca4",
   "metadata": {},
   "outputs": [],
   "source": []
  },
  {
   "cell_type": "code",
   "execution_count": null,
   "id": "dffcdcd0-7e95-45cd-955a-301fc9695413",
   "metadata": {},
   "outputs": [],
   "source": []
  },
  {
   "cell_type": "code",
   "execution_count": null,
   "id": "e6d3671c-72e1-497a-bc63-f55da3a2f17a",
   "metadata": {},
   "outputs": [],
   "source": []
  },
  {
   "cell_type": "code",
   "execution_count": null,
   "id": "73089aaa-9ad6-4367-b3fa-0a88dd6e122d",
   "metadata": {},
   "outputs": [],
   "source": []
  },
  {
   "cell_type": "code",
   "execution_count": null,
   "id": "475b0f43-b58c-4ccc-8187-d3f2bde5a391",
   "metadata": {},
   "outputs": [],
   "source": []
  },
  {
   "cell_type": "code",
   "execution_count": null,
   "id": "c5845a8c-400e-487a-9ca8-186ed0268888",
   "metadata": {},
   "outputs": [],
   "source": []
  },
  {
   "cell_type": "code",
   "execution_count": null,
   "id": "7878d98e-7cc6-4f38-9428-870bebc02119",
   "metadata": {},
   "outputs": [],
   "source": []
  },
  {
   "cell_type": "code",
   "execution_count": null,
   "id": "dd0c6353-3d46-48f0-99a9-ba4028dde0cf",
   "metadata": {},
   "outputs": [],
   "source": []
  },
  {
   "cell_type": "code",
   "execution_count": null,
   "id": "2411c851-1c45-4b96-b6c4-6cdebe704c79",
   "metadata": {},
   "outputs": [],
   "source": []
  },
  {
   "cell_type": "code",
   "execution_count": null,
   "id": "41bfbee0-2669-4a1b-bd00-948b08130007",
   "metadata": {},
   "outputs": [],
   "source": []
  },
  {
   "cell_type": "code",
   "execution_count": null,
   "id": "21fc7742-1c72-4b91-88e9-20c0e0784789",
   "metadata": {},
   "outputs": [],
   "source": []
  },
  {
   "cell_type": "code",
   "execution_count": null,
   "id": "9045f0a2-0892-4304-94c4-6051b6b2a8a4",
   "metadata": {},
   "outputs": [],
   "source": []
  },
  {
   "cell_type": "code",
   "execution_count": null,
   "id": "87630a50-5390-4097-960a-f0fdae6957b7",
   "metadata": {},
   "outputs": [],
   "source": []
  },
  {
   "cell_type": "code",
   "execution_count": null,
   "id": "654152fe-ab6f-4eb0-9af1-14b150fb3aac",
   "metadata": {},
   "outputs": [],
   "source": []
  },
  {
   "cell_type": "code",
   "execution_count": null,
   "id": "bafe5fce-6b78-41ac-b266-9d83af2a4ba4",
   "metadata": {},
   "outputs": [],
   "source": []
  },
  {
   "cell_type": "code",
   "execution_count": null,
   "id": "5eb12b82-66ea-490c-8203-7f68e3aed4f9",
   "metadata": {},
   "outputs": [],
   "source": []
  },
  {
   "cell_type": "code",
   "execution_count": null,
   "id": "7e735b35-8fb3-4bcf-a6d3-38bbf6c9c0a5",
   "metadata": {},
   "outputs": [],
   "source": []
  }
 ],
 "metadata": {
  "kernelspec": {
   "display_name": "Python 3 (ipykernel)",
   "language": "python",
   "name": "python3"
  },
  "language_info": {
   "codemirror_mode": {
    "name": "ipython",
    "version": 3
   },
   "file_extension": ".py",
   "mimetype": "text/x-python",
   "name": "python",
   "nbconvert_exporter": "python",
   "pygments_lexer": "ipython3",
   "version": "3.10.8"
  }
 },
 "nbformat": 4,
 "nbformat_minor": 5
}
